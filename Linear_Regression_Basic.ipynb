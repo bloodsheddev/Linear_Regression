{
 "cells": [
  {
   "cell_type": "code",
   "execution_count": 53,
   "metadata": {
    "scrolled": true
   },
   "outputs": [],
   "source": [
    "#importing modules\n",
    "from statistics import mean #stats mod\n",
    "import numpy as np \n",
    "import pandas as pd #data transfer format\n",
    "import random #function for random values\n",
    "import math #math functions\n",
    "import matplotlib.pyplot as plt #for data viz.\n",
    "color = '#003f72'"
   ]
  },
  {
   "cell_type": "code",
   "execution_count": 54,
   "metadata": {},
   "outputs": [],
   "source": [
    "def abss(x):\n",
    "    if x>=0: return x\n",
    "    else: return -1*x"
   ]
  },
  {
   "cell_type": "code",
   "execution_count": 55,
   "metadata": {},
   "outputs": [],
   "source": [
    "#marks and hours data of various students\n",
    "hours = [2,3,4,6,7,8]\n",
    "marks = [20,30,40,63,70,90]\n",
    "x=np.array(hours, dtype=np.float64) #for faster processing We convert our array to NumpyArray\n",
    "y=np.array(marks, dtype=np.float64)"
   ]
  },
  {
   "cell_type": "code",
   "execution_count": 56,
   "metadata": {},
   "outputs": [
    {
     "name": "stdout",
     "output_type": "stream",
     "text": [
      "[2. 3. 4. 6. 7. 8.]\n",
      "[20. 30. 40. 63. 70. 90.]\n"
     ]
    }
   ],
   "source": [
    "print(x)\n",
    "print(y)"
   ]
  },
  {
   "cell_type": "code",
   "execution_count": 57,
   "metadata": {},
   "outputs": [
    {
     "data": {
      "text/plain": [
       "<matplotlib.collections.PathCollection at 0xeb052d8080>"
      ]
     },
     "execution_count": 57,
     "metadata": {},
     "output_type": "execute_result"
    },
    {
     "data": {
      "image/png": "[encoded data removed]",
      "text/plain": [
       "<matplotlib.figure.Figure at 0xeb05272e80>"
      ]
     },
     "metadata": {},
     "output_type": "display_data"
    }
   ],
   "source": [
    "plt.figure(figsize = (6,5))\n",
    "plt.scatter(x,y,s=100) #s determines the radius of the plots"
   ]
  },
  {
   "cell_type": "code",
   "execution_count": 58,
   "metadata": {},
   "outputs": [],
   "source": [
    "def best_fit_slope_and_intercept(xs,ys): #xs = xbar & ys = ybar (differentiation)\n",
    "    slope=(((mean(xs)*mean(ys))-mean(xs*ys))/float((mean(xs)**2)-mean(xs**2)))\n",
    "    intercept=mean(ys)-slope*mean(xs)\n",
    "    return slope,intercept"
   ]
  },
  {
   "cell_type": "code",
   "execution_count": 59,
   "metadata": {},
   "outputs": [
    {
     "name": "stdout",
     "output_type": "stream",
     "text": [
      "11.17857142857143 -3.7261904761904887\n"
     ]
    }
   ],
   "source": [
    "m,b=best_fit_slope_and_intercept(x,y) #storing value of slope in m and intercept in b\n",
    "print(m,b)"
   ]
  },
  {
   "cell_type": "code",
   "execution_count": 60,
   "metadata": {},
   "outputs": [
    {
     "name": "stdout",
     "output_type": "stream",
     "text": [
      "[18.630952380952372, 29.809523809523803, 40.988095238095234, 63.345238095238095, 74.52380952380952, 85.70238095238096]\n"
     ]
    }
   ],
   "source": [
    "#calculating the predicted values using newly found slope and intercept\n",
    "regression_line = []\n",
    "for xi in x: #x = hours\n",
    "    regression_line.append((m*xi)+b) #append function adds the value to our empty list            \n",
    "print (regression_line)"
   ]
  },
  {
   "cell_type": "code",
   "execution_count": 61,
   "metadata": {},
   "outputs": [
    {
     "data": {
      "text/plain": [
       "<matplotlib.collections.PathCollection at 0xeb0533ab00>"
      ]
     },
     "execution_count": 61,
     "metadata": {},
     "output_type": "execute_result"
    },
    {
     "data": {
      "image/png": "[encoded data removed]",
      "text/plain": [
       "<matplotlib.figure.Figure at 0xeb05243588>"
      ]
     },
     "metadata": {},
     "output_type": "display_data"
    }
   ],
   "source": [
    "plt.figure(figsize=(5,5))\n",
    "plt.plot(x,regression_line) #if we use scatter function, the regression line will not appear\n",
    "plt.scatter(x,y,s = 200)"
   ]
  },
  {
   "cell_type": "code",
   "execution_count": 62,
   "metadata": {},
   "outputs": [
    {
     "name": "stdout",
     "output_type": "stream",
     "text": [
      "83.33333333333334\n"
     ]
    }
   ],
   "source": [
    "#Accuracy Algorithm\n",
    "correct = 0\n",
    "for i in range(len(x)):\n",
    "    if abss(y[i]-regression_line[i])<4.5: #finding difference of abs value and predicted value and checking it\n",
    "        correct+=1\n",
    "accuracy=float(correct)/float(len(x))*100 #finding percentage\n",
    "print(accuracy)"
   ]
  },
  {
   "cell_type": "code",
   "execution_count": 63,
   "metadata": {},
   "outputs": [
    {
     "name": "stdout",
     "output_type": "stream",
     "text": [
      "5 Correct Predictions out of 6 predictions by Linear Regression\n"
     ]
    }
   ],
   "source": [
    "print(\"%s Correct Predictions out of %s predictions by Linear Regression\" % (correct,len(y)))"
   ]
  }
 ],
 "metadata": {
  "kernelspec": {
   "display_name": "Python 3",
   "language": "python",
   "name": "python3"
  },
  "language_info": {
   "codemirror_mode": {
    "name": "ipython",
    "version": 3
   },
   "file_extension": ".py",
   "mimetype": "text/x-python",
   "name": "python",
   "nbconvert_exporter": "python",
   "pygments_lexer": "ipython3",
   "version": "3.6.4"
  }
 },
 "nbformat": 4,
 "nbformat_minor": 2
}
